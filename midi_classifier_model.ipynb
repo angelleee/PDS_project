{
 "cells": [
  {
   "cell_type": "code",
   "execution_count": 1,
   "metadata": {},
   "outputs": [],
   "source": [
    "import numpy as np\n",
    "import pandas as pd\n",
    "from sklearn.neural_network import MLPClassifier\n",
    "from sklearn.svm import SVC\n",
    "import pretty_midi\n",
    "import warnings\n",
    "import os\n",
    "import joblib"
   ]
  },
  {
   "cell_type": "code",
   "execution_count": 2,
   "metadata": {},
   "outputs": [],
   "source": [
    "labeled_features=np.load(\"labeled_features.npy\")\n",
    "label_list=np.load(\"label_list.npy\")"
   ]
  },
  {
   "cell_type": "code",
   "execution_count": 3,
   "metadata": {
    "scrolled": false
   },
   "outputs": [
    {
     "name": "stdout",
     "output_type": "stream",
     "text": [
      "[[ 0.08414462  0.55        0.125       0.125     ]\n",
      " [ 0.34438873  0.55        0.125       0.125     ]\n",
      " [ 0.2267722  -0.35        0.125       0.125     ]\n",
      " [ 0.30181461  0.55        0.125       0.125     ]\n",
      " [-0.19512195 -0.35        0.125       0.125     ]\n",
      " [ 0.16176816  0.31        0.125       0.125     ]\n",
      " [ 0.28916243  0.55        0.125       0.125     ]\n",
      " [ 0.09452051  0.31        0.          0.125     ]\n",
      " [ 0.04817331  0.55        0.125       0.125     ]\n",
      " [ 0.17858251 -0.17        0.125       0.125     ]]\n",
      "[1 8 1 1 2 7 8 1 8 1]\n",
      "[[0 1 0 0 0 0 0 0 0 0 0 0 0]\n",
      " [0 0 0 0 0 0 0 0 1 0 0 0 0]\n",
      " [0 1 0 0 0 0 0 0 0 0 0 0 0]\n",
      " [0 1 0 0 0 0 0 0 0 0 0 0 0]\n",
      " [0 0 1 0 0 0 0 0 0 0 0 0 0]\n",
      " [0 0 0 0 0 0 0 1 0 0 0 0 0]\n",
      " [0 0 0 0 0 0 0 0 1 0 0 0 0]\n",
      " [0 1 0 0 0 0 0 0 0 0 0 0 0]\n",
      " [0 0 0 0 0 0 0 0 1 0 0 0 0]\n",
      " [0 1 0 0 0 0 0 0 0 0 0 0 0]]\n"
     ]
    }
   ],
   "source": [
    "# Shuffle Entire Dataset to Make Random\n",
    "labeled_features = np.random.permutation(labeled_features)\n",
    "\n",
    "# Partition into 3 Sets\n",
    "num = len(labeled_features)\n",
    "num_training = int(num * 0.6)\n",
    "num_validation = int(num * 0.8)\n",
    "training_data = labeled_features[:num_training]\n",
    "validation_data = labeled_features[num_training:num_validation]\n",
    "test_data = labeled_features[num_validation:]\n",
    "\n",
    "# Separate Features from Labels\n",
    "num_cols = training_data.shape[1] - 1\n",
    "training_features = training_data[:, :num_cols]\n",
    "validation_features = validation_data[:, :num_cols]\n",
    "test_features = test_data[:, :num_cols]\n",
    "\n",
    "# Format Features for Multi-class Classification\n",
    "num_classes = len(label_list)\n",
    "training_labels = training_data[:, num_cols].astype(int)\n",
    "validation_labels = validation_data[:, num_cols].astype(int)\n",
    "test_labels = test_data[:, num_cols].astype(int)\n",
    "\n",
    "# Function for One-Hot Encoding\n",
    "def one_hot(labels):\n",
    "    return np.eye(num_classes)[labels].astype(int)\n",
    "\n",
    "# Print to Check Dimentions and to Visualize\n",
    "print(test_features[:10])\n",
    "print(test_labels[:10])\n",
    "print(one_hot(test_labels)[:10])"
   ]
  },
  {
   "cell_type": "code",
   "execution_count": 4,
   "metadata": {},
   "outputs": [
    {
     "name": "stderr",
     "output_type": "stream",
     "text": [
      "C:\\Users\\user\\anaconda3\\envs\\midienv\\lib\\site-packages\\sklearn\\neural_network\\_multilayer_perceptron.py:702: ConvergenceWarning: Stochastic Optimizer: Maximum iterations (200) reached and the optimization hasn't converged yet.\n",
      "  warnings.warn(\n",
      "C:\\Users\\user\\anaconda3\\envs\\midienv\\lib\\site-packages\\sklearn\\neural_network\\_multilayer_perceptron.py:702: ConvergenceWarning: Stochastic Optimizer: Maximum iterations (200) reached and the optimization hasn't converged yet.\n",
      "  warnings.warn(\n",
      "C:\\Users\\user\\anaconda3\\envs\\midienv\\lib\\site-packages\\sklearn\\neural_network\\_multilayer_perceptron.py:702: ConvergenceWarning: Stochastic Optimizer: Maximum iterations (200) reached and the optimization hasn't converged yet.\n",
      "  warnings.warn(\n"
     ]
    },
    {
     "name": "stdout",
     "output_type": "stream",
     "text": [
      "Best Accuracy: 0.7235005658242173\n"
     ]
    },
    {
     "data": {
      "text/plain": [
       "['classifier_model']"
      ]
     },
     "execution_count": 4,
     "metadata": {},
     "output_type": "execute_result"
    }
   ],
   "source": [
    "def train_model(t_features, t_labels, v_features, v_labels):\n",
    "    # Neural Network and SVM Configurations\n",
    "    clf_1 = MLPClassifier(solver='adam', alpha=1e-4, hidden_layer_sizes=(5,), random_state=1)\n",
    "    clf_2 = MLPClassifier(solver='adam', alpha=1e-4, hidden_layer_sizes=(5, 5), random_state=1)\n",
    "    clf_3 = MLPClassifier(solver='adam', alpha=1e-5, hidden_layer_sizes=(10, 10), random_state=1)\n",
    "    clf_4 = MLPClassifier(solver='adam', alpha=1e-5, hidden_layer_sizes=(100, 100), random_state=1)\n",
    "    clf_svm = SVC()\n",
    "    \n",
    "    # Keep Track of the Best Model\n",
    "    best_clf = None\n",
    "    best_accuracy = 0\n",
    "    \n",
    "    # Test the Accuracies of the Models and Get Best\n",
    "    for clf in [clf_1, clf_2, clf_3, clf_4, clf_svm]:\n",
    "        t_labels_hot = one_hot(t_labels)\n",
    "        v_labels_hot = one_hot(v_labels)\n",
    "        if (type(clf) == SVC):\n",
    "            clf = clf.fit(t_features, t_labels)\n",
    "        else:\n",
    "            clf = clf.fit(t_features, t_labels_hot)\n",
    "        predictions = clf.predict(v_features)\n",
    "        count = 0\n",
    "        for i in range(len(v_labels)):\n",
    "            if (type(clf) != SVC):\n",
    "                if np.array_equal(v_labels_hot[i], predictions[i]):\n",
    "                    count += 1\n",
    "            else:\n",
    "                if v_labels[i] == predictions[i]:\n",
    "                    count += 1\n",
    "        accuracy = count / len(v_labels_hot)\n",
    "        if accuracy > best_accuracy:\n",
    "            best_accuracy = accuracy\n",
    "            best_clf = clf\n",
    "\n",
    "    print(\"Best Accuracy:\", best_accuracy)\n",
    "    return best_clf\n",
    "\n",
    "classifier = train_model(training_features, training_labels, validation_features, validation_labels)\n",
    "joblib.dump(classifier, 'classifier_model')"
   ]
  },
  {
   "cell_type": "code",
   "execution_count": 5,
   "metadata": {},
   "outputs": [
    {
     "name": "stdout",
     "output_type": "stream",
     "text": [
      "0.7521689928328933\n"
     ]
    }
   ],
   "source": [
    "def calculate_accuracy(clf, t_features, t_labels):\n",
    "    count = 0\n",
    "    predictions = clf.predict(t_features)\n",
    "    t_labels_hot = one_hot(t_labels)\n",
    "    for i in range(len(t_features)):\n",
    "        if (type(clf) == SVC):\n",
    "            if t_labels[i] == predictions[i]:\n",
    "                count += 1\n",
    "        else:\n",
    "            if np.array_equal(t_labels_hot[i], predictions[i]):\n",
    "                count += 1\n",
    "    return count / len(t_features)\n",
    "\n",
    "# Print the Test Accuracy\n",
    "print(calculate_accuracy(classifier, test_features, test_labels))"
   ]
  },
  {
   "cell_type": "code",
   "execution_count": null,
   "metadata": {},
   "outputs": [],
   "source": []
  }
 ],
 "metadata": {
  "kernelspec": {
   "display_name": "Python 3 (ipykernel)",
   "language": "python",
   "name": "python3"
  },
  "language_info": {
   "codemirror_mode": {
    "name": "ipython",
    "version": 3
   },
   "file_extension": ".py",
   "mimetype": "text/x-python",
   "name": "python",
   "nbconvert_exporter": "python",
   "pygments_lexer": "ipython3",
   "version": "3.10.8"
  }
 },
 "nbformat": 4,
 "nbformat_minor": 2
}
